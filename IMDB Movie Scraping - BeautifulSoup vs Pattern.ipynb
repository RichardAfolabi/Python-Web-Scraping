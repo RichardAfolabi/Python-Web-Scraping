{
 "cells": [
  {
   "cell_type": "code",
   "execution_count": 244,
   "metadata": {
    "collapsed": false
   },
   "outputs": [],
   "source": [
    "import json\n",
    "import requests\n",
    "# from pattern import web\n",
    "from bs4 import BeautifulSoup\n"
   ]
  },
  {
   "cell_type": "markdown",
   "metadata": {
    "collapsed": true
   },
   "source": [
    "## Find and print the movie titles, list of genres, runtime and score of all movies on this page:"
   ]
  },
  {
   "cell_type": "markdown",
   "metadata": {},
   "source": [
    "http://www.imdb.com/search/title?at=0&sort=num_votes,desc&start=1&title_type=feature&year=1950,2012\n",
    "\n",
    "Inspect the CSS/HTML structure of the file."
   ]
  },
  {
   "cell_type": "markdown",
   "metadata": {},
   "source": [
    "### There are two ways of making `GET` requests"
   ]
  },
  {
   "cell_type": "markdown",
   "metadata": {},
   "source": [
    "- Explicit URL\n",
    "- Base URL with `GET` dictionary"
   ]
  },
  {
   "cell_type": "markdown",
   "metadata": {},
   "source": [
    "### 1.) Explicit `URL`"
   ]
  },
  {
   "cell_type": "code",
   "execution_count": 12,
   "metadata": {
    "collapsed": false
   },
   "outputs": [
    {
     "data": {
      "text/plain": [
       "u'http://www.imdb.com/search/title?at=0&sort=num_votes,desc&start=1&title_type=feature&year=1950,2012'"
      ]
     },
     "execution_count": 12,
     "metadata": {},
     "output_type": "execute_result"
    }
   ],
   "source": [
    "data_url = 'http://www.imdb.com/search/title?at=0&sort=num_votes,desc&start=1&title_type=feature&year=1950,2012'\n",
    "\n",
    "r = requests.get(data_url)\n",
    "r.url"
   ]
  },
  {
   "cell_type": "markdown",
   "metadata": {},
   "source": [
    "### 2.) Base `URL` with `GET` dictionary"
   ]
  },
  {
   "cell_type": "code",
   "execution_count": 237,
   "metadata": {
    "collapsed": false
   },
   "outputs": [
    {
     "data": {
      "text/plain": [
       "'http://www.imdb.com/search/title?title_type=feature&start=1&year=1950%2C2012&params=num_votes%2Cdesc'"
      ]
     },
     "execution_count": 237,
     "metadata": {},
     "output_type": "execute_result"
    }
   ],
   "source": [
    "base_url = 'http://www.imdb.com/search/title'\n",
    "\n",
    "# construct the parameter arguments\n",
    "params = dict(params='num_votes,desc', start=1, title_type='feature', year='1950,2012')\n",
    "\n",
    "# requests.get(url, params=None, **kwargs) \n",
    "r = requests.get(base_url, params=params)\n",
    "\n",
    "r.url\n"
   ]
  },
  {
   "cell_type": "markdown",
   "metadata": {},
   "source": [
    "## Using `Pattern`"
   ]
  },
  {
   "cell_type": "code",
   "execution_count": 46,
   "metadata": {
    "collapsed": false
   },
   "outputs": [
    {
     "name": "stdout",
     "output_type": "stream",
     "text": [
      "(u'Hocus Pocus', [u'Comedy', u'Family', u'Fantasy'], u'96 mins.', u'6.7')\n",
      "(u'Back to the Future', [u'Adventure', u'Comedy', u'Sci-Fi'], u'116 mins.', u'8.5')\n",
      "(u'Star Wars', [u'Action', u'Adventure', u'Fantasy', u'Sci-Fi'], u'121 mins.', u'8.7')\n",
      "(u'Halloween', [u'Horror', u'Thriller'], u'91 mins.', u'7.9')\n",
      "(u'The Addams Family', [u'Comedy', u'Fantasy'], u'99 mins.', u'6.8')\n",
      "(u'The Rocky Horror Picture Show', [u'Comedy', u'Musical'], u'100 mins.', u'7.4')\n",
      "(u'Back to the Future Part II', [u'Adventure', u'Comedy', u'Sci-Fi'], u'108 mins.', u'7.8')\n",
      "(u'Skyfall', [u'Action', u'Adventure', u'Thriller'], u'143 mins.', u'7.8')\n",
      "(u'The Nightmare Before Christmas', [u'Animation', u'Family', u'Fantasy', u'Musical'], u'76 mins.', u'8.0')\n",
      "(u'Star Wars: Episode I - The Phantom Menace', [u'Action', u'Adventure', u'Fantasy', u'Sci-Fi'], u'136 mins.', u'6.5')\n"
     ]
    }
   ],
   "source": [
    "# Selection in pattern follows the rule of CSS\n",
    "\n",
    "dom = web.Element(r.text)\n",
    "\n",
    "for movie in dom.by_tag('td.title')[:10]:\n",
    "    title = movie.by_tag('a')[0].content\n",
    "    genres = movie.by_tag('span.genre')[0].by_tag('a')\n",
    "    genres = [g.content for g in genres]\n",
    "    runtime = movie.by_tag('span.runtime')[0].content\n",
    "    rating = movie.by_tag('span.value')[0].content\n",
    "    print(title, genres, runtime, rating)\n",
    "    \n",
    "    "
   ]
  },
  {
   "cell_type": "markdown",
   "metadata": {},
   "source": [
    "## Using `BeautifulSoup`"
   ]
  },
  {
   "cell_type": "code",
   "execution_count": 6,
   "metadata": {
    "collapsed": false
   },
   "outputs": [
    {
     "name": "stdout",
     "output_type": "stream",
     "text": [
      "Star Wars ['Action', 'Adventure', 'Fantasy', 'Sci-Fi'] 121 mins. 8.7\n",
      "The Wiz ['Adventure', 'Family', 'Fantasy', 'Musical'] 134 mins. 5.2\n",
      "Home Alone ['Comedy', 'Family'] 103 mins. 7.4\n",
      "Star Wars: Episode I - The Phantom Menace ['Action', 'Adventure', 'Fantasy', 'Sci-Fi'] 136 mins. 6.5\n",
      "How the Grinch Stole Christmas ['Comedy', 'Family', 'Fantasy'] 104 mins. 6.0\n",
      "The Hunger Games ['Adventure', 'Drama', 'Sci-Fi', 'Thriller'] 142 mins. 7.3\n",
      "Elf ['Comedy', 'Family', 'Fantasy', 'Romance'] 97 mins. 6.9\n",
      "Love Actually ['Comedy', 'Drama', 'Romance'] 135 mins. 7.7\n",
      "Rocky ['Drama', 'Sport'] 119 mins. 8.1\n",
      "Star Wars: Episode III - Revenge of the Sith ['Action', 'Adventure', 'Fantasy', 'Sci-Fi'] 140 mins. 7.7\n"
     ]
    }
   ],
   "source": [
    "for movie in bs.findAll('td', 'title')[:10]:\n",
    "    title = movie.find('a').contents[0]\n",
    "    genres = movie.find('span', 'genre').findAll('a')\n",
    "    genres = [g.contents[0] for g in genres]\n",
    "    runtime = movie.find('span', 'runtime').contents[0]\n",
    "    rating = movie.find('span', 'value').contents[0]\n",
    "    print(title, genres, runtime, rating)"
   ]
  },
  {
   "cell_type": "code",
   "execution_count": 246,
   "metadata": {
    "collapsed": false
   },
   "outputs": [],
   "source": [
    "movie_soup = BeautifulSoup(r.content, 'lxml')\n",
    "\n"
   ]
  },
  {
   "cell_type": "markdown",
   "metadata": {
    "collapsed": true
   },
   "source": [
    "## `BeautifulSoup` Website scraping"
   ]
  },
  {
   "cell_type": "code",
   "execution_count": 86,
   "metadata": {
    "collapsed": false
   },
   "outputs": [],
   "source": [
    "site_url = \"http://www.crummy.com/software/BeautifulSoup/\"\n",
    "\n",
    "r = requests.get(site_url)\n",
    "\n",
    "soup = BeautifulSoup(r.text, 'lxml')\n"
   ]
  },
  {
   "cell_type": "code",
   "execution_count": 74,
   "metadata": {
    "collapsed": false
   },
   "outputs": [
    {
     "data": {
      "text/plain": [
       "False"
      ]
     },
     "execution_count": 74,
     "metadata": {},
     "output_type": "execute_result"
    }
   ],
   "source": [
    "# # check if the word 'Alice' is on the page.\n",
    "'Alice' in soup "
   ]
  },
  {
   "cell_type": "code",
   "execution_count": 96,
   "metadata": {
    "collapsed": false
   },
   "outputs": [
    {
     "data": {
      "text/plain": [
       "[]"
      ]
     },
     "execution_count": 96,
     "metadata": {},
     "output_type": "execute_result"
    }
   ],
   "source": [
    "# soup ONLY accept TAGS\n",
    "soup.findAll('alien video games')"
   ]
  },
  {
   "cell_type": "code",
   "execution_count": 113,
   "metadata": {
    "collapsed": false
   },
   "outputs": [
    {
     "data": {
      "text/plain": [
       "[<a href=\"bs4/download/\"><h1>Beautiful Soup</h1></a>,\n",
       " <a href=\"#Download\">Download</a>,\n",
       " <a href=\"bs4/doc/\">Documentation</a>,\n",
       " <a href=\"#HallOfFame\">Hall of Fame</a>,\n",
       " <a href=\"https://code.launchpad.net/beautifulsoup\">Source</a>,\n",
       " <a href=\"https://groups.google.com/forum/?fromgroups#!forum/beautifulsoup\">Discussion group</a>,\n",
       " <a href=\"http://www.candlemarkandgleam.com/shop/constellation-games/\"><i>Constellation\n",
       " Games</i>, my sci-fi novel about alien video games</a>]"
      ]
     },
     "execution_count": 113,
     "metadata": {},
     "output_type": "execute_result"
    }
   ],
   "source": [
    "# FindAll returns a list of all appearance of the tag\n",
    "links = soup.findAll('a')\n",
    "\n",
    "links[:7]"
   ]
  },
  {
   "cell_type": "markdown",
   "metadata": {},
   "source": [
    "### Extract only the `links` - We have `bookmarks links` and `external links` in the `URL`"
   ]
  },
  {
   "cell_type": "code",
   "execution_count": 134,
   "metadata": {
    "collapsed": false
   },
   "outputs": [
    {
     "data": {
      "text/plain": [
       "26"
      ]
     },
     "execution_count": 134,
     "metadata": {},
     "output_type": "execute_result"
    }
   ],
   "source": [
    "# Get all the links (both internal bookmarks and external)  \n",
    "url_nlinks = [lnx.get('href') for lnx in soup.findAll('a')]\n",
    "\n",
    "# Get ONLY external links\n",
    "# List comprehensions: \n",
    "# external_links = [lnx for lnx in url_nlinks if (lnx != None) and ('http' in lnx)]\n",
    "\n",
    "# url_nlinks[:5]\n",
    "\n",
    "external_links = []\n",
    "for lnx in url_nlinks:\n",
    "    if (lnx is not None) and lnx.startswith('http'):\n",
    "        external_links.append(lnx)\n",
    "\n",
    "\n",
    "len(external_links)\n",
    "\n",
    "\n"
   ]
  },
  {
   "cell_type": "code",
   "execution_count": 114,
   "metadata": {
    "collapsed": false
   },
   "outputs": [
    {
     "data": {
      "text/plain": [
       "True"
      ]
     },
     "execution_count": 114,
     "metadata": {},
     "output_type": "execute_result"
    }
   ],
   "source": [
    "'http' in 'http://www.crummy.com/software/BeautifulSoup/'"
   ]
  },
  {
   "cell_type": "markdown",
   "metadata": {},
   "source": [
    "## Parsing the Tree"
   ]
  },
  {
   "cell_type": "code",
   "execution_count": 135,
   "metadata": {
    "collapsed": true
   },
   "outputs": [],
   "source": [
    "# redifining `s` without any line breaks\n",
    "s = \"\"\"<!DOCTYPE html><html><head><title>This is a title</title></head><body><h3> Test </h3>\n",
    "<p>Hello world!</p></body></html>\"\"\""
   ]
  },
  {
   "cell_type": "code",
   "execution_count": 139,
   "metadata": {
    "collapsed": false
   },
   "outputs": [
    {
     "data": {
      "text/plain": [
       "<!DOCTYPE html>\n",
       "<html><head><title>This is a title</title></head><body><h3> Test </h3><p>Hello world!</p></body></html>"
      ]
     },
     "execution_count": 139,
     "metadata": {},
     "output_type": "execute_result"
    }
   ],
   "source": [
    "# Ge tbs4 object\n",
    "tree = BeautifulSoup(s, 'lxml')\n",
    "tree"
   ]
  },
  {
   "cell_type": "code",
   "execution_count": 145,
   "metadata": {
    "collapsed": false
   },
   "outputs": [
    {
     "data": {
      "text/plain": [
       "<html><head><title>This is a title</title></head><body><h3> Test </h3><p>Hello world!</p></body></html>"
      ]
     },
     "execution_count": 145,
     "metadata": {},
     "output_type": "execute_result"
    }
   ],
   "source": [
    "# Get HTML root node\n",
    "root_node = tree.html\n",
    "root_node"
   ]
  },
  {
   "cell_type": "code",
   "execution_count": 146,
   "metadata": {
    "collapsed": false
   },
   "outputs": [
    {
     "data": {
      "text/plain": [
       "'html'"
      ]
     },
     "execution_count": 146,
     "metadata": {},
     "output_type": "execute_result"
    }
   ],
   "source": [
    "# Get head from root using contents\n",
    "head = tree.contents[0]\n",
    "head"
   ]
  },
  {
   "cell_type": "code",
   "execution_count": 148,
   "metadata": {
    "collapsed": false
   },
   "outputs": [
    {
     "data": {
      "text/plain": [
       "<body><h3> Test </h3><p>Hello world!</p></body>"
      ]
     },
     "execution_count": 148,
     "metadata": {},
     "output_type": "execute_result"
    }
   ],
   "source": [
    "# Get body from root\n",
    "body = root_node.contents[1]\n",
    "body"
   ]
  },
  {
   "cell_type": "code",
   "execution_count": 149,
   "metadata": {
    "collapsed": false
   },
   "outputs": [
    {
     "data": {
      "text/plain": [
       "<body><h3> Test </h3><p>Hello world!</p></body>"
      ]
     },
     "execution_count": 149,
     "metadata": {},
     "output_type": "execute_result"
    }
   ],
   "source": [
    "# or , directly access body\n",
    "tree.body"
   ]
  },
  {
   "cell_type": "markdown",
   "metadata": {},
   "source": [
    "## Find the h3 tag by parsing the tree starting at body"
   ]
  },
  {
   "cell_type": "code",
   "execution_count": 163,
   "metadata": {
    "collapsed": false
   },
   "outputs": [
    {
     "data": {
      "text/plain": [
       "['Beautiful Soup 3']"
      ]
     },
     "execution_count": 163,
     "metadata": {},
     "output_type": "execute_result"
    }
   ],
   "source": [
    "soup.findAll('h3')[0].contents"
   ]
  },
  {
   "cell_type": "markdown",
   "metadata": {},
   "source": [
    "### Create a list of all Hall of Fame entries listed on the Beautiful Soup webpage"
   ]
  },
  {
   "cell_type": "code",
   "execution_count": 229,
   "metadata": {
    "collapsed": false
   },
   "outputs": [
    {
     "data": {
      "text/plain": [
       "<ul>\n",
       "<li><a href=\"http://www.nytimes.com/2007/10/25/arts/design/25vide.html\">\"Movable\n",
       " Type\"</a>, a work of digital art on display in the lobby of the New\n",
       " York Times building, uses Beautiful Soup to scrape news feeds.\n",
       "\n",
       "</li><li>Reddit uses Beautiful Soup to <a href=\"https://github.com/reddit/reddit/blob/85f9cff3e2ab9bb8f19b96acd8da4ebacc079f04/r2/r2/lib/media.py\">parse\n",
       "a page that's been linked to and find a representative image</a>.\n",
       "\n",
       "</li><li>Alexander Harrowell uses Beautiful Soup to <a href=\"http://www.harrowell.org.uk/viktormap.html\">track the business\n",
       " activities</a> of an arms merchant.\n",
       "\n",
       "</li><li>The developers of Python itself used Beautiful Soup to <a href=\"http://svn.python.org/view/tracker/importer/\">migrate the Python\n",
       "bug tracker from Sourceforge to Roundup</a>.\n",
       "\n",
       "</li><li>The <a href=\"http://www2.ljworld.com/\">Lawrence Journal-World</a>\n",
       "uses Beautiful Soup to <a href=\"http://www.b-list.org/weblog/2010/nov/02/news-done-broke/\">gather\n",
       "statewide election results</a>.\n",
       "\n",
       "</li><li>The <a href=\"http://esrl.noaa.gov/gsd/fab/\">NOAA's Forecast\n",
       "Applications Branch</a> uses Beautiful Soup in <a href=\"http://laps.noaa.gov/topograbber/\">TopoGrabber</a>, a script for\n",
       "downloading \"high resolution USGS datasets.\"\n",
       "\n",
       "</li></ul>"
      ]
     },
     "execution_count": 229,
     "metadata": {},
     "output_type": "execute_result"
    }
   ],
   "source": [
    "hall_of_fame = soup.findAll('ul')\n",
    "\n",
    "hall_of_fame[0]"
   ]
  },
  {
   "cell_type": "markdown",
   "metadata": {},
   "source": [
    "## Singular Value Decomposition"
   ]
  },
  {
   "cell_type": "code",
   "execution_count": 271,
   "metadata": {
    "collapsed": false
   },
   "outputs": [],
   "source": [
    "import matplotlib\n",
    "import matplotlib.pyplot as plt\n",
    "%matplotlib inline\n",
    "\n",
    "np.random.seed(99)\n",
    "\n",
    "mean = [0,0]\n",
    "cov = [[1.0, 0.7], [0.7, 1.0]]"
   ]
  },
  {
   "cell_type": "code",
   "execution_count": 308,
   "metadata": {
    "collapsed": false
   },
   "outputs": [],
   "source": [
    "x, y = np.random.multivariate_normal(mean, cov, 350).T"
   ]
  },
  {
   "cell_type": "code",
   "execution_count": 309,
   "metadata": {
    "collapsed": false
   },
   "outputs": [
    {
     "data": {
      "text/plain": [
       "(-4.0, 4.0, -4.0, 4.0)"
      ]
     },
     "execution_count": 309,
     "metadata": {},
     "output_type": "execute_result"
    },
    {
     "name": "stderr",
     "output_type": "stream",
     "text": [
      "/Users/RichardAfolabi/anaconda/envs/python3/lib/python3.5/site-packages/matplotlib/collections.py:590: FutureWarning:\n",
      "\n",
      "elementwise comparison failed; returning scalar instead, but in the future will perform elementwise comparison\n",
      "\n"
     ]
    },
    {
     "data": {
      "image/png": "[encoded data removed]",
      "text/plain": [
       "<matplotlib.figure.Figure at 0x10e931e10>"
      ]
     },
     "metadata": {},
     "output_type": "display_data"
    }
   ],
   "source": [
    "plt.scatter(x,y)\n",
    "plt.axis('equal')"
   ]
  },
  {
   "cell_type": "code",
   "execution_count": 282,
   "metadata": {
    "collapsed": false
   },
   "outputs": [],
   "source": [
    "# Create a data matrix\n",
    "matrix = np.column_stack((x,y))\n",
    "\n",
    "# Compute SVD\n",
    "U, s, Vh = sp.linalg.svd(matrix)\n",
    "\n",
    "# "
   ]
  },
  {
   "cell_type": "code",
   "execution_count": 311,
   "metadata": {
    "collapsed": false
   },
   "outputs": [],
   "source": [
    "S = sp.linalg.diagsvd(s,350,2)\n",
    "\n"
   ]
  },
  {
   "cell_type": "code",
   "execution_count": null,
   "metadata": {
    "collapsed": true
   },
   "outputs": [],
   "source": []
  }
 ],
 "metadata": {
  "kernelspec": {
   "display_name": "Python 3",
   "language": "python",
   "name": "python3"
  },
  "language_info": {
   "codemirror_mode": {
    "name": "ipython",
    "version": 3
   },
   "file_extension": ".py",
   "mimetype": "text/x-python",
   "name": "python",
   "nbconvert_exporter": "python",
   "pygments_lexer": "ipython3",
   "version": "3.5.0"
  }
 },
 "nbformat": 4,
 "nbformat_minor": 0
}
